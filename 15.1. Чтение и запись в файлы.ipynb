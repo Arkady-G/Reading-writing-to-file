{
 "cells": [
  {
   "cell_type": "code",
   "execution_count": 1,
   "metadata": {},
   "outputs": [
    {
     "name": "stdout",
     "output_type": "stream",
     "text": [
      "Я на чердаке лежу у себя на дому.\n",
      "Мне скучно до зарезу Бог знает почему.\n",
      "Вдруг слышу за собою совы нежные \"У-юй\" -\n",
      "У меня на душе стало веселее,\n",
      "А-лай-лай-лай, стало веселее.\n",
      "\n",
      "Я по дороге иду к другу-разбойнику,\n",
      "Мне тоскливо одному в незнакомом краю.\n",
      "Вдруг слышу за собою совы нежные \"У-юй\" -\n",
      "У меня на душе стало веселее,\n",
      "А-лай-лай-лай, стало веселее.\n",
      "\n",
      "Я на веревке вишу, ногами болтаю,\n",
      "Мне очень бы хотелось побольше воздуху.\n",
      "Вдруг слышу за собою совы нежные \"У-юй\" -\n",
      "У меня на душе стало веселее,\n",
      "А-лай-лай-лай стало веселее.\n",
      "\n",
      "Я в большом котле киплю у черта на пиру,\n",
      "\"Мне плакать уж ни к чему\", - лезет мне в голову\n",
      "Вдруг слышу за собою совы нежные \"У-юй\" -\n",
      "У меня на душе стало веселее,\n",
      "А-лай-лай-лай стало веселее.\n",
      "\n",
      "Я на чердаке лежу у себя на дому.\n",
      "Мне скучно до зарезу Бог знает почему.\n",
      "Вдруг слышу за собою совы нежные \"У-юй\" -\n",
      "\"Cпоем вместе, е-ла-ла-лай-ла-лай, ла-лай-лай-лай\" -\n",
      "Говорю я сове.\n"
     ]
    }
   ],
   "source": [
    "MyFile = open('Совы нежные.txt', 'r', encoding='UTF8')\n",
    "print(MyFile.read())\n",
    "MyFile.close()"
   ]
  },
  {
   "cell_type": "code",
   "execution_count": null,
   "metadata": {},
   "outputs": [],
   "source": [
    "MyFile = open('Совы нежные.txt', 'r', encoding='UTF8')\n",
    "print(MyFile.read(72))\n",
    "MyFile.close()"
   ]
  },
  {
   "cell_type": "code",
   "execution_count": null,
   "metadata": {},
   "outputs": [],
   "source": [
    "MyFile = open('Совы нежные.txt', 'r', encoding='UTF8')\n",
    "print(MyFile.readline())\n",
    "MyFile.close()"
   ]
  },
  {
   "cell_type": "code",
   "execution_count": null,
   "metadata": {},
   "outputs": [],
   "source": [
    "MyFile = open('Совы нежные.txt', 'r', encoding='UTF8')\n",
    "print(MyFile.readlines())\n",
    "MyFile.close()"
   ]
  },
  {
   "cell_type": "code",
   "execution_count": null,
   "metadata": {},
   "outputs": [],
   "source": [
    "MyFile = open('Совы нежные.txt', 'r', encoding='UTF8')\n",
    "for line in MyFile:\n",
    "    print(line)\n",
    "MyFile.close()"
   ]
  },
  {
   "cell_type": "code",
   "execution_count": null,
   "metadata": {},
   "outputs": [],
   "source": [
    "MyFile_02 = open('namefile.txt', 'w')\n",
    "MyFile_02.write('tttt')\n",
    "print('zzzz', file=MyFile_02)"
   ]
  },
  {
   "cell_type": "code",
   "execution_count": null,
   "metadata": {},
   "outputs": [],
   "source": []
  }
 ],
 "metadata": {
  "kernelspec": {
   "display_name": "Python 3",
   "language": "python",
   "name": "python3"
  },
  "language_info": {
   "codemirror_mode": {
    "name": "ipython",
    "version": 3
   },
   "file_extension": ".py",
   "mimetype": "text/x-python",
   "name": "python",
   "nbconvert_exporter": "python",
   "pygments_lexer": "ipython3",
   "version": "3.8.5"
  }
 },
 "nbformat": 4,
 "nbformat_minor": 4
}
